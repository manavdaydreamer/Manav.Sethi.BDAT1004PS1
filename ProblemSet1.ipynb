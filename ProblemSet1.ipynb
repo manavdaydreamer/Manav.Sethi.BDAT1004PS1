{
 "cells": [
  {
   "cell_type": "markdown",
   "metadata": {},
   "source": [
    "# PROBLEM SET-1 "
   ]
  },
  {
   "cell_type": "markdown",
   "metadata": {},
   "source": [
    "Question-1 What data type is each of the following?"
   ]
  },
  {
   "cell_type": "code",
   "execution_count": 94,
   "metadata": {},
   "outputs": [
    {
     "data": {
      "text/plain": [
       "int"
      ]
     },
     "execution_count": 94,
     "metadata": {},
     "output_type": "execute_result"
    }
   ],
   "source": [
    "x=5\n",
    "type(x) #we can use the type keyword to check the data type"
   ]
  },
  {
   "cell_type": "code",
   "execution_count": 95,
   "metadata": {},
   "outputs": [
    {
     "data": {
      "text/plain": [
       "float"
      ]
     },
     "execution_count": 95,
     "metadata": {},
     "output_type": "execute_result"
    }
   ],
   "source": [
    "x=5.0\n",
    "type(x)"
   ]
  },
  {
   "cell_type": "code",
   "execution_count": 96,
   "metadata": {},
   "outputs": [
    {
     "data": {
      "text/plain": [
       "bool"
      ]
     },
     "execution_count": 96,
     "metadata": {},
     "output_type": "execute_result"
    }
   ],
   "source": [
    "x=5>1\n",
    "type(x)"
   ]
  },
  {
   "cell_type": "code",
   "execution_count": 97,
   "metadata": {},
   "outputs": [
    {
     "data": {
      "text/plain": [
       "str"
      ]
     },
     "execution_count": 97,
     "metadata": {},
     "output_type": "execute_result"
    }
   ],
   "source": [
    "x='5'\n",
    "type(x)"
   ]
  },
  {
   "cell_type": "code",
   "execution_count": 98,
   "metadata": {},
   "outputs": [
    {
     "data": {
      "text/plain": [
       "int"
      ]
     },
     "execution_count": 98,
     "metadata": {},
     "output_type": "execute_result"
    }
   ],
   "source": [
    "x=5*2\n",
    "type(x)"
   ]
  },
  {
   "cell_type": "code",
   "execution_count": 99,
   "metadata": {},
   "outputs": [
    {
     "data": {
      "text/plain": [
       "str"
      ]
     },
     "execution_count": 99,
     "metadata": {},
     "output_type": "execute_result"
    }
   ],
   "source": [
    "x='5'*2\n",
    "type(x)"
   ]
  },
  {
   "cell_type": "code",
   "execution_count": 100,
   "metadata": {},
   "outputs": [
    {
     "data": {
      "text/plain": [
       "str"
      ]
     },
     "execution_count": 100,
     "metadata": {},
     "output_type": "execute_result"
    }
   ],
   "source": [
    "x='5'+'2'\n",
    "type(x)"
   ]
  },
  {
   "cell_type": "code",
   "execution_count": 101,
   "metadata": {},
   "outputs": [
    {
     "data": {
      "text/plain": [
       "float"
      ]
     },
     "execution_count": 101,
     "metadata": {},
     "output_type": "execute_result"
    }
   ],
   "source": [
    "x=5/2\n",
    "type(x)"
   ]
  },
  {
   "cell_type": "code",
   "execution_count": 102,
   "metadata": {},
   "outputs": [
    {
     "data": {
      "text/plain": [
       "int"
      ]
     },
     "execution_count": 102,
     "metadata": {},
     "output_type": "execute_result"
    }
   ],
   "source": [
    "x=5//2 #//this type of divison returns int value instead of floating values\n",
    "type(x)"
   ]
  },
  {
   "cell_type": "code",
   "execution_count": 103,
   "metadata": {},
   "outputs": [
    {
     "data": {
      "text/plain": [
       "list"
      ]
     },
     "execution_count": 103,
     "metadata": {},
     "output_type": "execute_result"
    }
   ],
   "source": [
    "x=[5,2,1]\n",
    "type(x)"
   ]
  },
  {
   "cell_type": "code",
   "execution_count": 104,
   "metadata": {},
   "outputs": [
    {
     "data": {
      "text/plain": [
       "bool"
      ]
     },
     "execution_count": 104,
     "metadata": {},
     "output_type": "execute_result"
    }
   ],
   "source": [
    "x=5 in [1,4,6]\n",
    "type(x)"
   ]
  },
  {
   "cell_type": "code",
   "execution_count": 105,
   "metadata": {},
   "outputs": [
    {
     "data": {
      "text/plain": [
       "float"
      ]
     },
     "execution_count": 105,
     "metadata": {},
     "output_type": "execute_result"
    }
   ],
   "source": [
    "import math #we need to import math first to use pi \n",
    "x=math.pi\n",
    "type(x)"
   ]
  },
  {
   "cell_type": "markdown",
   "metadata": {},
   "source": [
    "Question-2 Write (and evaluate) Python expressions that answer these questions:\n",
    "\n",
    "a. How many letters are there in 'Supercalifragilisticexpialidocious'?\n",
    "b. Does 'Supercalifragilisticexpialidocious' contain 'ice' as a substring? \n",
    "c. Which of the following words is the longest:\n",
    "Supercalifragilisticexpialidocious, Honorificabilitudinitatibus, or Bababadalgharaghtakamminarronnkonn?\n",
    "d. Which composer comes first in the dictionary: 'Berlioz', 'Borodin', 'Brian',\n",
    "'Bartok', 'Bellini', 'Buxtehude', 'Bernstein'. Which one comes last?"
   ]
  },
  {
   "cell_type": "markdown",
   "metadata": {},
   "source": [
    "a."
   ]
  },
  {
   "cell_type": "code",
   "execution_count": 106,
   "metadata": {},
   "outputs": [
    {
     "data": {
      "text/plain": [
       "34"
      ]
     },
     "execution_count": 106,
     "metadata": {},
     "output_type": "execute_result"
    }
   ],
   "source": [
    "x=\"Supercalifragilisticexpialidocious\"\n",
    "len(x) #we can use len built in function to find of the count of letters in a string "
   ]
  },
  {
   "cell_type": "markdown",
   "metadata": {},
   "source": [
    "b."
   ]
  },
  {
   "cell_type": "code",
   "execution_count": 107,
   "metadata": {},
   "outputs": [
    {
     "name": "stdout",
     "output_type": "stream",
     "text": [
      "True\n"
     ]
    }
   ],
   "source": [
    "x='ice' in 'Supercalifragilisticexpialidocious'  #we use in  keyword to check the ice exist in \n",
    "                                        #'Supercalifragilisticexpialidocious' since the result is true so 'ice'exist  \n",
    "print(x)"
   ]
  },
  {
   "cell_type": "markdown",
   "metadata": {},
   "source": [
    "yes 'ice' exist in 'Supercalifragilisticexpialidocious' since the answer is true "
   ]
  },
  {
   "cell_type": "markdown",
   "metadata": {},
   "source": [
    "c."
   ]
  },
  {
   "cell_type": "code",
   "execution_count": 108,
   "metadata": {},
   "outputs": [
    {
     "name": "stdout",
     "output_type": "stream",
     "text": [
      "34 - Supercalifragilisticexpialidocious\n",
      "27 - Honorificabilitudinitatibus\n",
      "34 - Bababadalgharaghtakamminarronnkonn\n"
     ]
    }
   ],
   "source": [
    "x='Supercalifragilisticexpialidocious'\n",
    "y='Honorificabilitudinitatibus'\n",
    "z='Bababadalgharaghtakamminarronnkonn'\n",
    "print(len(x),'-',x)#we can use len built-in fuction to check the count of words in all the three strings \n",
    "print(len(y),'-',y)                            #so we can conclude both x and z are equal length so are the longest \n",
    "print(len(z),'-',z)         "
   ]
  },
  {
   "cell_type": "markdown",
   "metadata": {},
   "source": [
    "since length of x='Supercalifragilisticexpialidocious' and z='Bababadalgharaghtakamminarronnkonn' are both 34 so they are longest"
   ]
  },
  {
   "cell_type": "markdown",
   "metadata": {},
   "source": [
    "d."
   ]
  },
  {
   "cell_type": "code",
   "execution_count": 109,
   "metadata": {},
   "outputs": [
    {
     "name": "stdout",
     "output_type": "stream",
     "text": [
      "first: Bartok last: Buxtehude\n"
     ]
    }
   ],
   "source": [
    "x=['Berlioz','Borodin','Brian','Bartok','Bellini','Buxtehude','Bernstein']\n",
    "x.sort()\n",
    "print('first:',x[0],'last:',x[-1]) # x[0] gives the first word and x[-1] gives the last word in the sorted list"
   ]
  },
  {
   "cell_type": "markdown",
   "metadata": {},
   "source": [
    "'Bartok' comes first in the dictonary and 'Buxtehude' comes last in the dictonary"
   ]
  },
  {
   "cell_type": "markdown",
   "metadata": {},
   "source": [
    "Question-3\n",
    "\n",
    "a. Write a function inside(x,y,x1,y1,x2,y2) that returns True or False\n",
    "depending on whether the point (x,y) lies in the rectangle with lower left\n",
    "corner (x1,y1) and upper right corner (x2,y2).\n",
    "\n",
    "inside(1,1,0,0,2,3)\n",
    "True\n",
    "\n",
    "inside(-1,-1,0,0,2,3)\n",
    "False\n",
    "\n",
    "b. Use function inside() from part a. to write an expression that tests whether\n",
    "the point (1,1) lies in both of the following rectangles: one with lower left\n",
    "corner (0.3, 0.5) and upper right corner (1.1, 0.7) and the other with lower\n",
    "left corner (0.5, 0.2) and upper right corner (1.1, 2). "
   ]
  },
  {
   "cell_type": "code",
   "execution_count": 110,
   "metadata": {},
   "outputs": [],
   "source": [
    "def inside(a,b,a1,b1,a2,b2):\n",
    "    if (a>a1 and a<a2 and b>b1 and b<b2):   \n",
    "        return True\n",
    "    else:\n",
    "        return False \n",
    "    ## A point lies inside or not the rectangle if and only if it’s x-coordinate lies between the x-coordinate of the \n",
    "    ## given bottom-right and top-left coordinates of the rectangle and y-coordinate \n",
    "    ##lies between the y-coordinate of the given bottom-right and top-left coordinates."
   ]
  },
  {
   "cell_type": "code",
   "execution_count": 111,
   "metadata": {},
   "outputs": [
    {
     "data": {
      "text/plain": [
       "True"
      ]
     },
     "execution_count": 111,
     "metadata": {},
     "output_type": "execute_result"
    }
   ],
   "source": [
    "inside(1,1,0,0,2,3)"
   ]
  },
  {
   "cell_type": "code",
   "execution_count": 112,
   "metadata": {},
   "outputs": [
    {
     "data": {
      "text/plain": [
       "False"
      ]
     },
     "execution_count": 112,
     "metadata": {},
     "output_type": "execute_result"
    }
   ],
   "source": [
    "inside(-1,-1,0,0,2,3) "
   ]
  },
  {
   "cell_type": "code",
   "execution_count": 113,
   "metadata": {},
   "outputs": [
    {
     "data": {
      "text/plain": [
       "False"
      ]
     },
     "execution_count": 113,
     "metadata": {},
     "output_type": "execute_result"
    }
   ],
   "source": [
    "inside(1,1,0.3,0.5,1.1,0.7) and inside(1,1,0.5,0.2,1.1,2)"
   ]
  },
  {
   "cell_type": "markdown",
   "metadata": {},
   "source": [
    "since the result False the point is outside the triangles. "
   ]
  },
  {
   "cell_type": "markdown",
   "metadata": {},
   "source": [
    "Question-4 Write a function pig() that takes a word (i.e., a string) as input and returns its pigLatin form. Your function should still work if the input word contains upper case\n",
    "characters. Your output should always be lower case however. "
   ]
  },
  {
   "cell_type": "code",
   "execution_count": 114,
   "metadata": {},
   "outputs": [],
   "source": [
    "vowels = ['a','e','i','o','u','A','E','I','O','U']\n",
    "def pig(x):\n",
    "    if x[0] in vowels:\n",
    "        res = x + 'way'\n",
    "    else:\n",
    "        res=(x[1:]+x[0]+'ay')\n",
    "    print(\"\\'\"+res.lower()+\"\\'\")"
   ]
  },
  {
   "cell_type": "code",
   "execution_count": 115,
   "metadata": {},
   "outputs": [
    {
     "name": "stdout",
     "output_type": "stream",
     "text": [
      "'appyhay'\n"
     ]
    }
   ],
   "source": [
    "pig('happy')"
   ]
  },
  {
   "cell_type": "code",
   "execution_count": 116,
   "metadata": {},
   "outputs": [
    {
     "name": "stdout",
     "output_type": "stream",
     "text": [
      "'enterway'\n"
     ]
    }
   ],
   "source": [
    "pig('Enter')"
   ]
  },
  {
   "cell_type": "markdown",
   "metadata": {},
   "source": [
    "Question-5 Write a function bldcount() that reads the file with name name and reports (i.e.,\n",
    "prints) how many patients there are in each bloodtype."
   ]
  },
  {
   "cell_type": "code",
   "execution_count": 117,
   "metadata": {},
   "outputs": [],
   "source": [
    "def bldcount(fileName):\n",
    "    res=open(fileName, 'r')\n",
    "    res1=(res.read()).split() \n",
    "    res.close()\n",
    "    a,b,a_b,o,o_o = 0,0,0,0,0\n",
    "    for i in res1:\n",
    "        if i==\"A\":\n",
    "            a+=1\n",
    "        elif i==\"B\":\n",
    "            b+=1\n",
    "        elif i==\"AB\":\n",
    "            a_b+=1\n",
    "        elif i==\"O\":\n",
    "            o+=1\n",
    "        else:\n",
    "            o_o+=1\n",
    " \n",
    "  \n",
    "    print('There are '+str(a)+' patients of blood type A.')\n",
    "    print('There are '+str(b)+' patients of blood type B.')\n",
    "    print('There are '+str(a_b)+' patients of blood type AB.')\n",
    "    print('There are '+str(o)+' patients of blood type O.')\n",
    "    print('There are '+str(o_o)+' patients of blood type OO.')"
   ]
  },
  {
   "cell_type": "code",
   "execution_count": 118,
   "metadata": {},
   "outputs": [
    {
     "name": "stdout",
     "output_type": "stream",
     "text": [
      "There are 15 patients of blood type A.\n",
      "There are 1 patients of blood type B.\n",
      "There are 13 patients of blood type AB.\n",
      "There are 15 patients of blood type O.\n",
      "There are 0 patients of blood type OO.\n"
     ]
    }
   ],
   "source": [
    "bldcount(\"bloodtype1.txt\")"
   ]
  },
  {
   "cell_type": "markdown",
   "metadata": {},
   "source": [
    "Question-6 \n",
    "Write a function curconv() that takes as input:\n",
    "1. a currency represented using a string (e.g., 'JPY' for the Japanese Yen or\n",
    "'EUR' for the Euro)\n",
    "2. an amount\n",
    "and then converts and returns the amount in US dollars.\n",
    "The currency rates you will need are stored in file currencies.txt:\n",
    " curconv('EUR', 100)"
   ]
  },
  {
   "cell_type": "code",
   "execution_count": 119,
   "metadata": {},
   "outputs": [],
   "source": [
    "def curconv(cur_type,amt):\n",
    "    res=open(\"currencies.txt\",\"r\")\n",
    "    res1=(res.read()).split()\n",
    "    res.close\n",
    "    converted_amt=0\n",
    "    for i in range(len(res1)):\n",
    "        if res1[i]==cur_type:\n",
    "            converted_amt=float(res1[i+1])*amt\n",
    "            print(converted_amt)"
   ]
  },
  {
   "cell_type": "code",
   "execution_count": 120,
   "metadata": {},
   "outputs": [
    {
     "name": "stdout",
     "output_type": "stream",
     "text": [
      "122.96544\n"
     ]
    }
   ],
   "source": [
    "curconv('EUR', 100)"
   ]
  },
  {
   "cell_type": "code",
   "execution_count": 121,
   "metadata": {},
   "outputs": [
    {
     "name": "stdout",
     "output_type": "stream",
     "text": [
      "1.241401\n"
     ]
    }
   ],
   "source": [
    "curconv('JPY', 100)"
   ]
  },
  {
   "cell_type": "markdown",
   "metadata": {},
   "source": [
    "Question-7\n",
    "Each of the following will cause an exception (an error). Identify what type of\n",
    "exception each will cause.\n",
    "\n",
    "Trying to add incompatible variables, as in\n",
    "adding 6 + ‘a’\n",
    "\n",
    "Referring to the 12th item of a list that has only 10\n",
    "items\n",
    "\n",
    "Using a value that is out of range for a function’s\n",
    "input, such as calling math.sqrt(-1.0)\n",
    "\n",
    "Using an undeclared variable, such as print(x)\n",
    "when x has not been defined \n",
    "\n",
    "Trying to open a file that does not exist, such as\n",
    "mistyping the file name or looking in the wrong\n",
    "directory. "
   ]
  },
  {
   "cell_type": "code",
   "execution_count": 122,
   "metadata": {},
   "outputs": [
    {
     "ename": "TypeError",
     "evalue": "unsupported operand type(s) for +: 'int' and 'str'",
     "output_type": "error",
     "traceback": [
      "\u001b[0;31m---------------------------------------------------------------------------\u001b[0m",
      "\u001b[0;31mTypeError\u001b[0m                                 Traceback (most recent call last)",
      "\u001b[0;32m<ipython-input-122-880ee03ec65c>\u001b[0m in \u001b[0;36m<module>\u001b[0;34m\u001b[0m\n\u001b[0;32m----> 1\u001b[0;31m \u001b[0mx\u001b[0m\u001b[0;34m=\u001b[0m\u001b[0;36m6\u001b[0m\u001b[0;34m+\u001b[0m\u001b[0;34m'a'\u001b[0m\u001b[0;34m\u001b[0m\u001b[0;34m\u001b[0m\u001b[0m\n\u001b[0m",
      "\u001b[0;31mTypeError\u001b[0m: unsupported operand type(s) for +: 'int' and 'str'"
     ]
    }
   ],
   "source": [
    "x=6+'a'"
   ]
  },
  {
   "cell_type": "markdown",
   "metadata": {},
   "source": [
    "`TypeError"
   ]
  },
  {
   "cell_type": "code",
   "execution_count": 123,
   "metadata": {},
   "outputs": [
    {
     "ename": "IndexError",
     "evalue": "list index out of range",
     "output_type": "error",
     "traceback": [
      "\u001b[0;31m---------------------------------------------------------------------------\u001b[0m",
      "\u001b[0;31mIndexError\u001b[0m                                Traceback (most recent call last)",
      "\u001b[0;32m<ipython-input-123-e75fb6df44e4>\u001b[0m in \u001b[0;36m<module>\u001b[0;34m\u001b[0m\n\u001b[1;32m      1\u001b[0m \u001b[0mlst\u001b[0m \u001b[0;34m=\u001b[0m \u001b[0;34m[\u001b[0m\u001b[0;36m1\u001b[0m\u001b[0;34m,\u001b[0m\u001b[0;36m2\u001b[0m\u001b[0;34m,\u001b[0m\u001b[0;36m3\u001b[0m\u001b[0;34m,\u001b[0m\u001b[0;36m4\u001b[0m\u001b[0;34m,\u001b[0m\u001b[0;36m5\u001b[0m\u001b[0;34m,\u001b[0m\u001b[0;36m6\u001b[0m\u001b[0;34m,\u001b[0m\u001b[0;36m7\u001b[0m\u001b[0;34m,\u001b[0m\u001b[0;36m8\u001b[0m\u001b[0;34m,\u001b[0m\u001b[0;36m9\u001b[0m\u001b[0;34m,\u001b[0m\u001b[0;36m10\u001b[0m\u001b[0;34m,\u001b[0m\u001b[0;36m11\u001b[0m\u001b[0;34m]\u001b[0m\u001b[0;34m\u001b[0m\u001b[0;34m\u001b[0m\u001b[0m\n\u001b[0;32m----> 2\u001b[0;31m \u001b[0mx\u001b[0m\u001b[0;34m=\u001b[0m\u001b[0mlst\u001b[0m\u001b[0;34m[\u001b[0m\u001b[0;36m11\u001b[0m\u001b[0;34m]\u001b[0m\u001b[0;34m\u001b[0m\u001b[0;34m\u001b[0m\u001b[0m\n\u001b[0m",
      "\u001b[0;31mIndexError\u001b[0m: list index out of range"
     ]
    }
   ],
   "source": [
    "lst = [1,2,3,4,5,6,7,8,9,10,11]\n",
    "x=lst[11]"
   ]
  },
  {
   "cell_type": "markdown",
   "metadata": {},
   "source": [
    "IndexError"
   ]
  },
  {
   "cell_type": "code",
   "execution_count": 124,
   "metadata": {},
   "outputs": [
    {
     "ename": "ValueError",
     "evalue": "math domain error",
     "output_type": "error",
     "traceback": [
      "\u001b[0;31m---------------------------------------------------------------------------\u001b[0m",
      "\u001b[0;31mValueError\u001b[0m                                Traceback (most recent call last)",
      "\u001b[0;32m<ipython-input-124-2ce6ccdabf9a>\u001b[0m in \u001b[0;36m<module>\u001b[0;34m\u001b[0m\n\u001b[0;32m----> 1\u001b[0;31m \u001b[0mx\u001b[0m\u001b[0;34m=\u001b[0m\u001b[0mmath\u001b[0m\u001b[0;34m.\u001b[0m\u001b[0msqrt\u001b[0m\u001b[0;34m(\u001b[0m\u001b[0;34m-\u001b[0m\u001b[0;36m1.0\u001b[0m\u001b[0;34m)\u001b[0m\u001b[0;34m\u001b[0m\u001b[0;34m\u001b[0m\u001b[0m\n\u001b[0m",
      "\u001b[0;31mValueError\u001b[0m: math domain error"
     ]
    }
   ],
   "source": [
    "x=math.sqrt(-1.0)"
   ]
  },
  {
   "cell_type": "markdown",
   "metadata": {},
   "source": [
    "ValueError"
   ]
  },
  {
   "cell_type": "code",
   "execution_count": 125,
   "metadata": {},
   "outputs": [
    {
     "ename": "NameError",
     "evalue": "name 'amm' is not defined",
     "output_type": "error",
     "traceback": [
      "\u001b[0;31m---------------------------------------------------------------------------\u001b[0m",
      "\u001b[0;31mNameError\u001b[0m                                 Traceback (most recent call last)",
      "\u001b[0;32m<ipython-input-125-41d62fc69f4b>\u001b[0m in \u001b[0;36m<module>\u001b[0;34m\u001b[0m\n\u001b[0;32m----> 1\u001b[0;31m \u001b[0mprint\u001b[0m\u001b[0;34m(\u001b[0m\u001b[0mamm\u001b[0m\u001b[0;34m)\u001b[0m\u001b[0;34m\u001b[0m\u001b[0;34m\u001b[0m\u001b[0m\n\u001b[0m",
      "\u001b[0;31mNameError\u001b[0m: name 'amm' is not defined"
     ]
    }
   ],
   "source": [
    "print(amm)"
   ]
  },
  {
   "cell_type": "markdown",
   "metadata": {},
   "source": [
    "NameError"
   ]
  },
  {
   "cell_type": "code",
   "execution_count": 126,
   "metadata": {},
   "outputs": [
    {
     "ename": "FileNotFoundError",
     "evalue": "[Errno 2] No such file or directory: 'blood.txt'",
     "output_type": "error",
     "traceback": [
      "\u001b[0;31m---------------------------------------------------------------------------\u001b[0m",
      "\u001b[0;31mFileNotFoundError\u001b[0m                         Traceback (most recent call last)",
      "\u001b[0;32m<ipython-input-126-18432f0d3c6f>\u001b[0m in \u001b[0;36m<module>\u001b[0;34m\u001b[0m\n\u001b[0;32m----> 1\u001b[0;31m \u001b[0minfile\u001b[0m\u001b[0;34m=\u001b[0m\u001b[0mopen\u001b[0m\u001b[0;34m(\u001b[0m\u001b[0;34m'blood.txt'\u001b[0m\u001b[0;34m)\u001b[0m\u001b[0;34m\u001b[0m\u001b[0;34m\u001b[0m\u001b[0m\n\u001b[0m",
      "\u001b[0;31mFileNotFoundError\u001b[0m: [Errno 2] No such file or directory: 'blood.txt'"
     ]
    }
   ],
   "source": [
    "infile=open('blood.txt')"
   ]
  },
  {
   "cell_type": "markdown",
   "metadata": {},
   "source": [
    "FileNotFoundError"
   ]
  },
  {
   "cell_type": "markdown",
   "metadata": {},
   "source": [
    "Question-8\n",
    "Assume that the string letters is already defined as\n",
    "'abcdefghijklmnopqrstuvwxyz'. Write a function called frequencies()\n",
    "that takes a string as its only parameter, and returns a list of integers, showing the\n",
    "number of times each character appears in the text. Your function may ignore any\n",
    "characters that are not in letters. "
   ]
  },
  {
   "cell_type": "code",
   "execution_count": 127,
   "metadata": {},
   "outputs": [],
   "source": [
    "letters = 'abcdefghijklmnopqrstuvwxyz'\n",
    "table=list(letters)\n",
    "def frequencies(words):\n",
    "    a=[]#empty list\n",
    "    if (type(words))==str:\n",
    "        res=list(words)\n",
    "    for c in table:\n",
    "        crypt=res.count(c)\n",
    "        a.append(crypt) #append the list with count of letters in table\n",
    "    print(a) "
   ]
  },
  {
   "cell_type": "code",
   "execution_count": 128,
   "metadata": {},
   "outputs": [
    {
     "name": "stdout",
     "output_type": "stream",
     "text": [
      "[1, 1, 1, 3, 5, 1, 1, 2, 1, 0, 1, 0, 1, 2, 4, 0, 1, 2, 0, 2, 1, 0, 1, 1, 0, 0]\n"
     ]
    }
   ],
   "source": [
    "frequencies('The quick red fox got bored and went home.')"
   ]
  },
  {
   "cell_type": "code",
   "execution_count": 129,
   "metadata": {},
   "outputs": [
    {
     "name": "stdout",
     "output_type": "stream",
     "text": [
      "[1, 0, 0, 0, 1, 0, 0, 0, 0, 0, 0, 1, 0, 0, 0, 2, 0, 0, 0, 0, 0, 0, 0, 0, 0, 0]\n"
     ]
    }
   ],
   "source": [
    "frequencies('apple')"
   ]
  },
  {
   "cell_type": "markdown",
   "metadata": {},
   "source": [
    "Question-9 "
   ]
  },
  {
   "cell_type": "code",
   "execution_count": 130,
   "metadata": {},
   "outputs": [],
   "source": [
    "def sieve(n):\n",
    "    L=[]      #create two empty list\n",
    "    primeL=[]\n",
    "    for i in range(2,n):\n",
    "        L.append(i)     #we can add to the list L number starting 2 to n \n",
    "    while len(L)!= 0:\n",
    "        for i in range (1,len(L)+1):   \n",
    "            #lower limit 1 and upper limit length of list L+1\n",
    "            if i<len(L):\n",
    "                if (L[i]%L[0])==0: \n",
    "                    L.remove(L[i]) \n",
    "        primeL.append(L[0]) #first we add the prime number to the the prime list \n",
    "        L.remove(L[0]) #second we remove the number from the other list L\n",
    "    return primeL    "
   ]
  },
  {
   "cell_type": "code",
   "execution_count": 131,
   "metadata": {},
   "outputs": [
    {
     "data": {
      "text/plain": [
       "[2, 3, 5, 7, 11, 13, 17, 19, 23, 29, 31, 37, 41, 43, 47]"
      ]
     },
     "execution_count": 131,
     "metadata": {},
     "output_type": "execute_result"
    }
   ],
   "source": [
    "sieve(52)"
   ]
  },
  {
   "cell_type": "markdown",
   "metadata": {},
   "source": [
    "Question-10 \n",
    "\n",
    "Implement function triangleArea(a,b,c) that takes as input the lengths of the 3\n",
    "sides of a triangle and returns the area of the triangle. By Heron's formula, the area\n",
    "of a triangle with side lengths a, b, and c is\n",
    "s(s - a)(s -b)(s -c)\n",
    ", where\n",
    "s = (a+b+c)/2. "
   ]
  },
  {
   "cell_type": "code",
   "execution_count": 132,
   "metadata": {},
   "outputs": [],
   "source": [
    "import math  #we need to import math library to use sqrt\n",
    "def  triangleArea(x,y,z):\n",
    "    res=float((x+y+z)/2) # s=(a+b+c)/2\n",
    "    area=math.sqrt(res*(res-x)*(res-y)*(res-z)) #area= sqrt of s(s-a)(s-b)(s-c)\n",
    "    print(area)\n",
    "    "
   ]
  },
  {
   "cell_type": "code",
   "execution_count": 133,
   "metadata": {},
   "outputs": [
    {
     "name": "stdout",
     "output_type": "stream",
     "text": [
      "1.7320508075688772\n"
     ]
    }
   ],
   "source": [
    " triangleArea(2,2,2)"
   ]
  }
 ],
 "metadata": {
  "kernelspec": {
   "display_name": "Python 3",
   "language": "python",
   "name": "python3"
  },
  "language_info": {
   "codemirror_mode": {
    "name": "ipython",
    "version": 3
   },
   "file_extension": ".py",
   "mimetype": "text/x-python",
   "name": "python",
   "nbconvert_exporter": "python",
   "pygments_lexer": "ipython3",
   "version": "3.7.6"
  }
 },
 "nbformat": 4,
 "nbformat_minor": 4
}
